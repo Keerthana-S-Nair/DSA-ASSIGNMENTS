{
 "cells": [
  {
   "cell_type": "code",
   "execution_count": 1,
   "id": "eb69939b",
   "metadata": {},
   "outputs": [
    {
     "name": "stdout",
     "output_type": "stream",
     "text": [
      "Requirement already satisfied: xlrd in c:\\users\\saike\\anaconda3\\lib\\site-packages (2.0.1)Note: you may need to restart the kernel to use updated packages.\n",
      "\n"
     ]
    }
   ],
   "source": [
    "pip install xlrd"
   ]
  },
  {
   "cell_type": "code",
   "execution_count": 2,
   "id": "33a05e1a",
   "metadata": {},
   "outputs": [],
   "source": [
    "import pandas as pd"
   ]
  },
  {
   "cell_type": "code",
   "execution_count": 3,
   "id": "7b0d10ca",
   "metadata": {},
   "outputs": [
    {
     "name": "stdout",
     "output_type": "stream",
     "text": [
      "    SL   SW   PL   PW Classification\n",
      "0  5.1  3.5  1.4  0.2    Iris-setosa\n",
      "1  4.9  3.0  1.4  0.2    Iris-setosa\n",
      "2  NaN  3.2  1.3  0.2    Iris-setosa\n",
      "3  4.6  3.1  1.5  0.2    Iris-setosa\n",
      "4  5.0  3.6  1.4  0.2    Iris-setosa\n"
     ]
    }
   ],
   "source": [
    "#Read the dataset into the Python environment\n",
    "\n",
    "iris_df = pd.read_excel(\"iris.xls\")\n",
    "\n",
    "print(iris_df.head())"
   ]
  },
  {
   "cell_type": "code",
   "execution_count": 4,
   "id": "0716d85d",
   "metadata": {},
   "outputs": [
    {
     "name": "stdout",
     "output_type": "stream",
     "text": [
      "SL                7\n",
      "SW                6\n",
      "PL                6\n",
      "PW                0\n",
      "Classification    0\n",
      "dtype: int64\n"
     ]
    }
   ],
   "source": [
    "# Check for null values\n",
    "null_values = iris_df.isnull().sum()\n",
    "\n",
    "# Display the null values count\n",
    "print(null_values)"
   ]
  },
  {
   "cell_type": "code",
   "execution_count": 5,
   "id": "d13b96e3",
   "metadata": {},
   "outputs": [],
   "source": [
    "# Impute null values with column means\n",
    "iris_df['SL'] = iris_df['SL'].fillna(iris_df['SL'].mean())\n",
    "iris_df['SW'] = iris_df['SW'].fillna(iris_df['SW'].mean())\n",
    "iris_df['PL'] = iris_df['PL'].fillna(iris_df['PL'].mean())"
   ]
  },
  {
   "cell_type": "code",
   "execution_count": 6,
   "id": "e81dd37d",
   "metadata": {},
   "outputs": [
    {
     "name": "stdout",
     "output_type": "stream",
     "text": [
      "SL                0\n",
      "SW                0\n",
      "PL                0\n",
      "PW                0\n",
      "Classification    0\n",
      "dtype: int64\n"
     ]
    }
   ],
   "source": [
    "# Check for null values\n",
    "null_value = iris_df.isnull().sum()\n",
    "\n",
    "# Display the null values count\n",
    "print(null_value)"
   ]
  },
  {
   "cell_type": "code",
   "execution_count": 7,
   "id": "aa01028f",
   "metadata": {},
   "outputs": [],
   "source": [
    "#Pre-processing steps\n",
    "\n",
    "from sklearn.model_selection import train_test_split\n",
    "from sklearn.preprocessing import StandardScaler\n",
    "\n",
    "# Separate features (X) and target variable (y)\n",
    "X = iris_df.drop(\"Classification\", axis=1)\n",
    "y = iris_df[\"Classification\"]\n",
    "\n",
    "# Split the data into training and testing sets\n",
    "X_train, X_test, y_train, y_test = train_test_split(X, y, test_size=0.2, random_state=42)\n",
    "\n",
    "# Scale the features using StandardScaler\n",
    "scaler = StandardScaler()\n",
    "X_train = scaler.fit_transform(X_train)\n",
    "X_test = scaler.transform(X_test)\n"
   ]
  },
  {
   "cell_type": "markdown",
   "id": "da3ae46a",
   "metadata": {},
   "source": [
    "Find out which classification model gives the best result"
   ]
  },
  {
   "cell_type": "code",
   "execution_count": 8,
   "id": "d4ffdc71",
   "metadata": {},
   "outputs": [],
   "source": [
    "from sklearn.model_selection import train_test_split\n",
    "from sklearn.preprocessing import StandardScaler\n",
    "from sklearn.linear_model import LogisticRegression\n",
    "from sklearn.tree import DecisionTreeClassifier\n",
    "from sklearn.neighbors import KNeighborsClassifier\n",
    "from sklearn.svm import SVC\n",
    "from sklearn.ensemble import RandomForestClassifier\n",
    "from sklearn.metrics import accuracy_score"
   ]
  },
  {
   "cell_type": "code",
   "execution_count": 9,
   "id": "f935b974",
   "metadata": {},
   "outputs": [],
   "source": [
    "#Separate the features (X) and target variable (y)\n",
    "X = iris_df.drop(\"Classification\", axis=1)\n",
    "y = iris_df[\"Classification\"]"
   ]
  },
  {
   "cell_type": "code",
   "execution_count": 10,
   "id": "26e3313e",
   "metadata": {},
   "outputs": [],
   "source": [
    "#Split the data into training and testing sets\n",
    "X_train, X_test, y_train, y_test = train_test_split(X, y, test_size=0.2, random_state=42)"
   ]
  },
  {
   "cell_type": "code",
   "execution_count": 11,
   "id": "5c3e0262",
   "metadata": {},
   "outputs": [],
   "source": [
    "#Scale the features using StandardScaler\n",
    "scaler = StandardScaler()\n",
    "X_train = scaler.fit_transform(X_train)\n",
    "X_test = scaler.transform(X_test)"
   ]
  },
  {
   "cell_type": "code",
   "execution_count": 12,
   "id": "d4f52c7a",
   "metadata": {},
   "outputs": [],
   "source": [
    "#Define a dictionary of classification models to evaluate\n",
    "models = {\n",
    "    \"Logistic Regression\": LogisticRegression(),\n",
    "    \"Decision Tree\": DecisionTreeClassifier(),\n",
    "    \"K-Nearest Neighbors\": KNeighborsClassifier(),\n",
    "    \"Support Vector Machine\": SVC(),\n",
    "    \"Random Forest\": RandomForestClassifier()\n",
    "}"
   ]
  },
  {
   "cell_type": "code",
   "execution_count": 13,
   "id": "31107d78",
   "metadata": {},
   "outputs": [],
   "source": [
    "#Iterate over the models, train them on the training set, make predictions on the test set, and calculate accuracy\n",
    "results = {}\n",
    "for model_name, model in models.items():\n",
    "    model.fit(X_train, y_train)\n",
    "    y_pred = model.predict(X_test)\n",
    "    accuracy = accuracy_score(y_test, y_pred)\n",
    "    results[model_name] = accuracy"
   ]
  },
  {
   "cell_type": "code",
   "execution_count": 14,
   "id": "350b63e1",
   "metadata": {},
   "outputs": [],
   "source": [
    "#Determine the best-performing model based on accuracy\n",
    "best_model = max(results, key=results.get)\n",
    "best_accuracy = results[best_model]"
   ]
  },
  {
   "cell_type": "code",
   "execution_count": 15,
   "id": "b64ff81e",
   "metadata": {},
   "outputs": [
    {
     "name": "stdout",
     "output_type": "stream",
     "text": [
      "Logistic Regression: Accuracy = 0.97\n",
      "Decision Tree: Accuracy = 1.00\n",
      "K-Nearest Neighbors: Accuracy = 0.97\n",
      "Support Vector Machine: Accuracy = 0.97\n",
      "Random Forest: Accuracy = 1.00\n",
      "\n",
      "Best Model: Decision Tree (Accuracy = 1.00)\n"
     ]
    }
   ],
   "source": [
    "#Print the results and the best model\n",
    "for model_name, accuracy in results.items():\n",
    "    print(f\"{model_name}: Accuracy = {accuracy:.2f}\")\n",
    "    \n",
    "print(f\"\\nBest Model: {best_model} (Accuracy = {best_accuracy:.2f})\")"
   ]
  }
 ],
 "metadata": {
  "kernelspec": {
   "display_name": "Python 3 (ipykernel)",
   "language": "python",
   "name": "python3"
  },
  "language_info": {
   "codemirror_mode": {
    "name": "ipython",
    "version": 3
   },
   "file_extension": ".py",
   "mimetype": "text/x-python",
   "name": "python",
   "nbconvert_exporter": "python",
   "pygments_lexer": "ipython3",
   "version": "3.10.9"
  }
 },
 "nbformat": 4,
 "nbformat_minor": 5
}
